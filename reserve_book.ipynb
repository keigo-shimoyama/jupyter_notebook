{
 "cells": [
  {
   "cell_type": "code",
   "execution_count": 151,
   "metadata": {},
   "outputs": [
    {
     "name": "stdout",
     "output_type": "stream",
     "text": [
      "[]\n",
      "[]\n"
     ]
    }
   ],
   "source": [
    "#オールタイムベスト\n",
    "#タイトルを動的に取得しているようなので、これを持ってこれないと無理！\n",
    "\n",
    "# coding: UTF-8\n",
    "import urllib.request\n",
    "from bs4 import BeautifulSoup\n",
    "\n",
    "# amazonのランキングのURLを入れる\n",
    "url = \"https://www.amazon.co.jp/s/ref=s9_acsd_hps_bw_clnk_r?__mk_ja_JP=%83%4A%83%5E%83%4A%83%69&node=465392,!2141347051,!2141373051,3311704051,3332811051&search-alias=stripbooks&bbn=3311704051&pf_rd_m=AN1VRQENFRJN5&pf_rd_s=merchandised-search-5&pf_rd_r=9QPZ5WXGQGRKY7SGJQ3G&pf_rd_t=101&pf_rd_p=b18fc82b-4a40-4ba2-9fa5-8cd3d812f64a&pf_rd_i=3311704051\"\n",
    "\n",
    "# URLにアクセスする htmlが帰ってくる \n",
    "html = urllib.request.urlopen(url)\n",
    "\n",
    "# htmlをBeautifulSoupで扱う\n",
    "soup = BeautifulSoup(html, \"html.parser\")\n",
    "\n",
    "book_list = []\n",
    "\n",
    "div = soup.find_all('div')\n",
    "\n",
    "for span in soup.div.find_all('h2',class_=\"a-size-small\"):\n",
    "      book_list.append(soup.span.string)\n",
    "\n",
    "print(book_list)\n",
    "book_list_uniq = list(set(book_list))\n",
    "\n",
    "print(book_list_uniq)\n"
   ]
  },
  {
   "cell_type": "code",
   "execution_count": null,
   "metadata": {},
   "outputs": [],
   "source": [
    "#試行錯誤\n",
    "\n",
    "\n",
    "from selenium import webdriver\n",
    "driver = webdriver.Chrome(\"/Users/keigo/pyworks/chromedriver\")\n",
    "driver.get(\"http://kosmos.lib.keio.ac.jp/primo_library/libweb/action/search.do?fn=search&ct=search&initialSearch=true&mode=Basic&tab=default_tab&indx=1&dum=true&srt=rank&vid=KEIO&frbg=&tb=t&vl%28freeText0%29=&vl%28489411217UI1%29=all_items&vl%281UIStartWith0%29=contains&vl%28213708702UI0%29=any&vl%28213708702UI0%29=title&vl%28213708702UI0%29=any&scp.scps=scope%3A%28KEIO%29%2Cprimo_central_multiple_fe\")\n",
    "driver.find_element_by_id('search_field').send_keys(\"あ\")\n",
    "driver.find_element_by_id('goButton').click()\n",
    "\n",
    "#最上位の検索結果の\"全ての所蔵\"クリック\n",
    "driver.find_element_by_class_name('EXLResultTab').click()\n",
    "\n",
    "\n",
    "\n",
    "#\"リクエスト\"をクリック\n",
    "#driver.find_elements_by_xpath(\"/*/script\").click()\n",
    "#td.td1\n",
    "\n",
    "#javascriptだから動かない？\n",
    "#driver.find_elements_by_link_text('全ての所蔵').click()\n",
    "#driver.find_elements_by_link_text('リク\n",
    "\n",
    "#受け取り地区に\"日吉\"がある場合選択\n",
    "\n",
    "#\"GO\"をクリック"
   ]
  },
  {
   "cell_type": "markdown",
   "metadata": {},
   "source": [
    "ここから実行\n",
    "検索を部分一致にしたい\n",
    "amazonのランキングをページ送りしたい"
   ]
  },
  {
   "cell_type": "code",
   "execution_count": 153,
   "metadata": {
    "scrolled": true
   },
   "outputs": [
    {
     "name": "stdout",
     "output_type": "stream",
     "text": [
      "['アフィリエイトで夢を叶えた元OLブロガーが教える 本気で稼げる アフィリエイトブログ 収益・集客が1.5倍UPするプロの技79', '人工知能は人間を超えるか ディープラーニングの先にあるもの (角川EPUB選書)', '人生の勝算 (NewsPicks Book)', '沈黙のWebライティング —Webマーケッター ボーンの激闘—〈SEOのためのライティング教本〉', 'これからの世界をつくる仲間たちへ', 'ブロックチェーン・レボリューション ――ビットコインを支える技術はどのようにビジネスと経済、そして世界を変えるのか', '1ヶ月たった2記事だけ！月収130万円を稼ぐずるゆるブログ作成術: 毎日記事を書かなくても副業でしっかり稼ぐ！1PV325円を叩き出すブログアフィリエイト戦略', 'RPAの威力 ~ロボットと共に生きる働き方改革~', 'さよなら、インターネット――GDPRはネットとデータをどう変えるのか', 'ブログの成功技術：ブログ記事の書き方究極のガイドブック ブログSEOの入門書：個人ブロガーが勝てる唯一の戦略', 'ブログ起業: 10年9割廃業時代を生き抜くブログ×ビジネス戦略', 'あなたを支配し、社会を破壊する、AI・ビッグデータの罠', 'the four GAFA 四騎士が創り変えた世界', 'いちばん儲かる!Amazon輸入ビジネスの極意', 'HARD THINGS', 'エンジェル投資家 リスクを大胆に取り巨額のリターンを得る人は何を見抜くのか', 'ブログの書き方講座: 個人ブログ月間100万PVの手法', 'プラットフォーム革命――経済を支配するビジネスモデルはどう機能し、どう作られるのか', '解禁 インターネットビジネス完全暴露バイブル', '世界最先端のマーケティング 顧客とつながる企業のチャネルシフト戦略']\n"
     ]
    },
    {
     "ename": "KeyboardInterrupt",
     "evalue": "",
     "output_type": "error",
     "traceback": [
      "\u001b[0;31m---------------------------------------------------------------------------\u001b[0m",
      "\u001b[0;31mKeyboardInterrupt\u001b[0m                         Traceback (most recent call last)",
      "\u001b[0;32m<ipython-input-153-678c99a1bdd0>\u001b[0m in \u001b[0;36m<module>\u001b[0;34m()\u001b[0m\n\u001b[1;32m     29\u001b[0m \u001b[0;34m\u001b[0m\u001b[0m\n\u001b[1;32m     30\u001b[0m \u001b[0;32mfor\u001b[0m \u001b[0mbook_title\u001b[0m \u001b[0;32min\u001b[0m \u001b[0mbook_list_uniq\u001b[0m\u001b[0;34m:\u001b[0m\u001b[0;34m\u001b[0m\u001b[0m\n\u001b[0;32m---> 31\u001b[0;31m     \u001b[0mdriver\u001b[0m\u001b[0;34m.\u001b[0m\u001b[0mget\u001b[0m\u001b[0;34m(\u001b[0m\u001b[0;34m\"http://kosmos.lib.keio.ac.jp/primo_library/libweb/action/search.do?fn=search&ct=search&initialSearch=true&mode=Basic&tab=default_tab&indx=1&dum=true&srt=rank&vid=KEIO&frbg=&tb=t&vl%28freeText0%29=&vl%28489411217UI1%29=all_items&vl%281UIStartWith0%29=contains&vl%28213708702UI0%29=any&vl%28213708702UI0%29=title&vl%28213708702UI0%29=any&scp.scps=scope%3A%28KEIO%29%2Cprimo_central_multiple_fe\"\u001b[0m\u001b[0;34m)\u001b[0m\u001b[0;34m\u001b[0m\u001b[0m\n\u001b[0m\u001b[1;32m     32\u001b[0m     \u001b[0mdriver\u001b[0m\u001b[0;34m.\u001b[0m\u001b[0mfind_element_by_id\u001b[0m\u001b[0;34m(\u001b[0m\u001b[0;34m'search_field'\u001b[0m\u001b[0;34m)\u001b[0m\u001b[0;34m.\u001b[0m\u001b[0msend_keys\u001b[0m\u001b[0;34m(\u001b[0m\u001b[0mbook_title\u001b[0m\u001b[0;34m)\u001b[0m\u001b[0;34m\u001b[0m\u001b[0m\n\u001b[1;32m     33\u001b[0m     \u001b[0mdriver\u001b[0m\u001b[0;34m.\u001b[0m\u001b[0mfind_element_by_id\u001b[0m\u001b[0;34m(\u001b[0m\u001b[0;34m'goButton'\u001b[0m\u001b[0;34m)\u001b[0m\u001b[0;34m.\u001b[0m\u001b[0mclick\u001b[0m\u001b[0;34m(\u001b[0m\u001b[0;34m)\u001b[0m\u001b[0;34m\u001b[0m\u001b[0m\n",
      "\u001b[0;32m~/miniconda3/lib/python3.6/site-packages/selenium/webdriver/remote/webdriver.py\u001b[0m in \u001b[0;36mget\u001b[0;34m(self, url)\u001b[0m\n\u001b[1;32m    330\u001b[0m         \u001b[0mLoads\u001b[0m \u001b[0ma\u001b[0m \u001b[0mweb\u001b[0m \u001b[0mpage\u001b[0m \u001b[0;32min\u001b[0m \u001b[0mthe\u001b[0m \u001b[0mcurrent\u001b[0m \u001b[0mbrowser\u001b[0m \u001b[0msession\u001b[0m\u001b[0;34m.\u001b[0m\u001b[0;34m\u001b[0m\u001b[0m\n\u001b[1;32m    331\u001b[0m         \"\"\"\n\u001b[0;32m--> 332\u001b[0;31m         \u001b[0mself\u001b[0m\u001b[0;34m.\u001b[0m\u001b[0mexecute\u001b[0m\u001b[0;34m(\u001b[0m\u001b[0mCommand\u001b[0m\u001b[0;34m.\u001b[0m\u001b[0mGET\u001b[0m\u001b[0;34m,\u001b[0m \u001b[0;34m{\u001b[0m\u001b[0;34m'url'\u001b[0m\u001b[0;34m:\u001b[0m \u001b[0murl\u001b[0m\u001b[0;34m}\u001b[0m\u001b[0;34m)\u001b[0m\u001b[0;34m\u001b[0m\u001b[0m\n\u001b[0m\u001b[1;32m    333\u001b[0m \u001b[0;34m\u001b[0m\u001b[0m\n\u001b[1;32m    334\u001b[0m     \u001b[0;34m@\u001b[0m\u001b[0mproperty\u001b[0m\u001b[0;34m\u001b[0m\u001b[0m\n",
      "\u001b[0;32m~/miniconda3/lib/python3.6/site-packages/selenium/webdriver/remote/webdriver.py\u001b[0m in \u001b[0;36mexecute\u001b[0;34m(self, driver_command, params)\u001b[0m\n\u001b[1;32m    316\u001b[0m \u001b[0;34m\u001b[0m\u001b[0m\n\u001b[1;32m    317\u001b[0m         \u001b[0mparams\u001b[0m \u001b[0;34m=\u001b[0m \u001b[0mself\u001b[0m\u001b[0;34m.\u001b[0m\u001b[0m_wrap_value\u001b[0m\u001b[0;34m(\u001b[0m\u001b[0mparams\u001b[0m\u001b[0;34m)\u001b[0m\u001b[0;34m\u001b[0m\u001b[0m\n\u001b[0;32m--> 318\u001b[0;31m         \u001b[0mresponse\u001b[0m \u001b[0;34m=\u001b[0m \u001b[0mself\u001b[0m\u001b[0;34m.\u001b[0m\u001b[0mcommand_executor\u001b[0m\u001b[0;34m.\u001b[0m\u001b[0mexecute\u001b[0m\u001b[0;34m(\u001b[0m\u001b[0mdriver_command\u001b[0m\u001b[0;34m,\u001b[0m \u001b[0mparams\u001b[0m\u001b[0;34m)\u001b[0m\u001b[0;34m\u001b[0m\u001b[0m\n\u001b[0m\u001b[1;32m    319\u001b[0m         \u001b[0;32mif\u001b[0m \u001b[0mresponse\u001b[0m\u001b[0;34m:\u001b[0m\u001b[0;34m\u001b[0m\u001b[0m\n\u001b[1;32m    320\u001b[0m             \u001b[0mself\u001b[0m\u001b[0;34m.\u001b[0m\u001b[0merror_handler\u001b[0m\u001b[0;34m.\u001b[0m\u001b[0mcheck_response\u001b[0m\u001b[0;34m(\u001b[0m\u001b[0mresponse\u001b[0m\u001b[0;34m)\u001b[0m\u001b[0;34m\u001b[0m\u001b[0m\n",
      "\u001b[0;32m~/miniconda3/lib/python3.6/site-packages/selenium/webdriver/remote/remote_connection.py\u001b[0m in \u001b[0;36mexecute\u001b[0;34m(self, command, params)\u001b[0m\n\u001b[1;32m    470\u001b[0m         \u001b[0mdata\u001b[0m \u001b[0;34m=\u001b[0m \u001b[0mutils\u001b[0m\u001b[0;34m.\u001b[0m\u001b[0mdump_json\u001b[0m\u001b[0;34m(\u001b[0m\u001b[0mparams\u001b[0m\u001b[0;34m)\u001b[0m\u001b[0;34m\u001b[0m\u001b[0m\n\u001b[1;32m    471\u001b[0m         \u001b[0murl\u001b[0m \u001b[0;34m=\u001b[0m \u001b[0;34m'%s%s'\u001b[0m \u001b[0;34m%\u001b[0m \u001b[0;34m(\u001b[0m\u001b[0mself\u001b[0m\u001b[0;34m.\u001b[0m\u001b[0m_url\u001b[0m\u001b[0;34m,\u001b[0m \u001b[0mpath\u001b[0m\u001b[0;34m)\u001b[0m\u001b[0;34m\u001b[0m\u001b[0m\n\u001b[0;32m--> 472\u001b[0;31m         \u001b[0;32mreturn\u001b[0m \u001b[0mself\u001b[0m\u001b[0;34m.\u001b[0m\u001b[0m_request\u001b[0m\u001b[0;34m(\u001b[0m\u001b[0mcommand_info\u001b[0m\u001b[0;34m[\u001b[0m\u001b[0;36m0\u001b[0m\u001b[0;34m]\u001b[0m\u001b[0;34m,\u001b[0m \u001b[0murl\u001b[0m\u001b[0;34m,\u001b[0m \u001b[0mbody\u001b[0m\u001b[0;34m=\u001b[0m\u001b[0mdata\u001b[0m\u001b[0;34m)\u001b[0m\u001b[0;34m\u001b[0m\u001b[0m\n\u001b[0m\u001b[1;32m    473\u001b[0m \u001b[0;34m\u001b[0m\u001b[0m\n\u001b[1;32m    474\u001b[0m     \u001b[0;32mdef\u001b[0m \u001b[0m_request\u001b[0m\u001b[0;34m(\u001b[0m\u001b[0mself\u001b[0m\u001b[0;34m,\u001b[0m \u001b[0mmethod\u001b[0m\u001b[0;34m,\u001b[0m \u001b[0murl\u001b[0m\u001b[0;34m,\u001b[0m \u001b[0mbody\u001b[0m\u001b[0;34m=\u001b[0m\u001b[0;32mNone\u001b[0m\u001b[0;34m)\u001b[0m\u001b[0;34m:\u001b[0m\u001b[0;34m\u001b[0m\u001b[0m\n",
      "\u001b[0;32m~/miniconda3/lib/python3.6/site-packages/selenium/webdriver/remote/remote_connection.py\u001b[0m in \u001b[0;36m_request\u001b[0;34m(self, method, url, body)\u001b[0m\n\u001b[1;32m    494\u001b[0m             \u001b[0;32mtry\u001b[0m\u001b[0;34m:\u001b[0m\u001b[0;34m\u001b[0m\u001b[0m\n\u001b[1;32m    495\u001b[0m                 \u001b[0mself\u001b[0m\u001b[0;34m.\u001b[0m\u001b[0m_conn\u001b[0m\u001b[0;34m.\u001b[0m\u001b[0mrequest\u001b[0m\u001b[0;34m(\u001b[0m\u001b[0mmethod\u001b[0m\u001b[0;34m,\u001b[0m \u001b[0mparsed_url\u001b[0m\u001b[0;34m.\u001b[0m\u001b[0mpath\u001b[0m\u001b[0;34m,\u001b[0m \u001b[0mbody\u001b[0m\u001b[0;34m,\u001b[0m \u001b[0mheaders\u001b[0m\u001b[0;34m)\u001b[0m\u001b[0;34m\u001b[0m\u001b[0m\n\u001b[0;32m--> 496\u001b[0;31m                 \u001b[0mresp\u001b[0m \u001b[0;34m=\u001b[0m \u001b[0mself\u001b[0m\u001b[0;34m.\u001b[0m\u001b[0m_conn\u001b[0m\u001b[0;34m.\u001b[0m\u001b[0mgetresponse\u001b[0m\u001b[0;34m(\u001b[0m\u001b[0;34m)\u001b[0m\u001b[0;34m\u001b[0m\u001b[0m\n\u001b[0m\u001b[1;32m    497\u001b[0m             \u001b[0;32mexcept\u001b[0m \u001b[0;34m(\u001b[0m\u001b[0mhttplib\u001b[0m\u001b[0;34m.\u001b[0m\u001b[0mHTTPException\u001b[0m\u001b[0;34m,\u001b[0m \u001b[0msocket\u001b[0m\u001b[0;34m.\u001b[0m\u001b[0merror\u001b[0m\u001b[0;34m)\u001b[0m\u001b[0;34m:\u001b[0m\u001b[0;34m\u001b[0m\u001b[0m\n\u001b[1;32m    498\u001b[0m                 \u001b[0mself\u001b[0m\u001b[0;34m.\u001b[0m\u001b[0m_conn\u001b[0m\u001b[0;34m.\u001b[0m\u001b[0mclose\u001b[0m\u001b[0;34m(\u001b[0m\u001b[0;34m)\u001b[0m\u001b[0;34m\u001b[0m\u001b[0m\n",
      "\u001b[0;32m~/miniconda3/lib/python3.6/http/client.py\u001b[0m in \u001b[0;36mgetresponse\u001b[0;34m(self)\u001b[0m\n\u001b[1;32m   1329\u001b[0m         \u001b[0;32mtry\u001b[0m\u001b[0;34m:\u001b[0m\u001b[0;34m\u001b[0m\u001b[0m\n\u001b[1;32m   1330\u001b[0m             \u001b[0;32mtry\u001b[0m\u001b[0;34m:\u001b[0m\u001b[0;34m\u001b[0m\u001b[0m\n\u001b[0;32m-> 1331\u001b[0;31m                 \u001b[0mresponse\u001b[0m\u001b[0;34m.\u001b[0m\u001b[0mbegin\u001b[0m\u001b[0;34m(\u001b[0m\u001b[0;34m)\u001b[0m\u001b[0;34m\u001b[0m\u001b[0m\n\u001b[0m\u001b[1;32m   1332\u001b[0m             \u001b[0;32mexcept\u001b[0m \u001b[0mConnectionError\u001b[0m\u001b[0;34m:\u001b[0m\u001b[0;34m\u001b[0m\u001b[0m\n\u001b[1;32m   1333\u001b[0m                 \u001b[0mself\u001b[0m\u001b[0;34m.\u001b[0m\u001b[0mclose\u001b[0m\u001b[0;34m(\u001b[0m\u001b[0;34m)\u001b[0m\u001b[0;34m\u001b[0m\u001b[0m\n",
      "\u001b[0;32m~/miniconda3/lib/python3.6/http/client.py\u001b[0m in \u001b[0;36mbegin\u001b[0;34m(self)\u001b[0m\n\u001b[1;32m    295\u001b[0m         \u001b[0;31m# read until we get a non-100 response\u001b[0m\u001b[0;34m\u001b[0m\u001b[0;34m\u001b[0m\u001b[0m\n\u001b[1;32m    296\u001b[0m         \u001b[0;32mwhile\u001b[0m \u001b[0;32mTrue\u001b[0m\u001b[0;34m:\u001b[0m\u001b[0;34m\u001b[0m\u001b[0m\n\u001b[0;32m--> 297\u001b[0;31m             \u001b[0mversion\u001b[0m\u001b[0;34m,\u001b[0m \u001b[0mstatus\u001b[0m\u001b[0;34m,\u001b[0m \u001b[0mreason\u001b[0m \u001b[0;34m=\u001b[0m \u001b[0mself\u001b[0m\u001b[0;34m.\u001b[0m\u001b[0m_read_status\u001b[0m\u001b[0;34m(\u001b[0m\u001b[0;34m)\u001b[0m\u001b[0;34m\u001b[0m\u001b[0m\n\u001b[0m\u001b[1;32m    298\u001b[0m             \u001b[0;32mif\u001b[0m \u001b[0mstatus\u001b[0m \u001b[0;34m!=\u001b[0m \u001b[0mCONTINUE\u001b[0m\u001b[0;34m:\u001b[0m\u001b[0;34m\u001b[0m\u001b[0m\n\u001b[1;32m    299\u001b[0m                 \u001b[0;32mbreak\u001b[0m\u001b[0;34m\u001b[0m\u001b[0m\n",
      "\u001b[0;32m~/miniconda3/lib/python3.6/http/client.py\u001b[0m in \u001b[0;36m_read_status\u001b[0;34m(self)\u001b[0m\n\u001b[1;32m    256\u001b[0m \u001b[0;34m\u001b[0m\u001b[0m\n\u001b[1;32m    257\u001b[0m     \u001b[0;32mdef\u001b[0m \u001b[0m_read_status\u001b[0m\u001b[0;34m(\u001b[0m\u001b[0mself\u001b[0m\u001b[0;34m)\u001b[0m\u001b[0;34m:\u001b[0m\u001b[0;34m\u001b[0m\u001b[0m\n\u001b[0;32m--> 258\u001b[0;31m         \u001b[0mline\u001b[0m \u001b[0;34m=\u001b[0m \u001b[0mstr\u001b[0m\u001b[0;34m(\u001b[0m\u001b[0mself\u001b[0m\u001b[0;34m.\u001b[0m\u001b[0mfp\u001b[0m\u001b[0;34m.\u001b[0m\u001b[0mreadline\u001b[0m\u001b[0;34m(\u001b[0m\u001b[0m_MAXLINE\u001b[0m \u001b[0;34m+\u001b[0m \u001b[0;36m1\u001b[0m\u001b[0;34m)\u001b[0m\u001b[0;34m,\u001b[0m \u001b[0;34m\"iso-8859-1\"\u001b[0m\u001b[0;34m)\u001b[0m\u001b[0;34m\u001b[0m\u001b[0m\n\u001b[0m\u001b[1;32m    259\u001b[0m         \u001b[0;32mif\u001b[0m \u001b[0mlen\u001b[0m\u001b[0;34m(\u001b[0m\u001b[0mline\u001b[0m\u001b[0;34m)\u001b[0m \u001b[0;34m>\u001b[0m \u001b[0m_MAXLINE\u001b[0m\u001b[0;34m:\u001b[0m\u001b[0;34m\u001b[0m\u001b[0m\n\u001b[1;32m    260\u001b[0m             \u001b[0;32mraise\u001b[0m \u001b[0mLineTooLong\u001b[0m\u001b[0;34m(\u001b[0m\u001b[0;34m\"status line\"\u001b[0m\u001b[0;34m)\u001b[0m\u001b[0;34m\u001b[0m\u001b[0m\n",
      "\u001b[0;32m~/miniconda3/lib/python3.6/socket.py\u001b[0m in \u001b[0;36mreadinto\u001b[0;34m(self, b)\u001b[0m\n\u001b[1;32m    584\u001b[0m         \u001b[0;32mwhile\u001b[0m \u001b[0;32mTrue\u001b[0m\u001b[0;34m:\u001b[0m\u001b[0;34m\u001b[0m\u001b[0m\n\u001b[1;32m    585\u001b[0m             \u001b[0;32mtry\u001b[0m\u001b[0;34m:\u001b[0m\u001b[0;34m\u001b[0m\u001b[0m\n\u001b[0;32m--> 586\u001b[0;31m                 \u001b[0;32mreturn\u001b[0m \u001b[0mself\u001b[0m\u001b[0;34m.\u001b[0m\u001b[0m_sock\u001b[0m\u001b[0;34m.\u001b[0m\u001b[0mrecv_into\u001b[0m\u001b[0;34m(\u001b[0m\u001b[0mb\u001b[0m\u001b[0;34m)\u001b[0m\u001b[0;34m\u001b[0m\u001b[0m\n\u001b[0m\u001b[1;32m    587\u001b[0m             \u001b[0;32mexcept\u001b[0m \u001b[0mtimeout\u001b[0m\u001b[0;34m:\u001b[0m\u001b[0;34m\u001b[0m\u001b[0m\n\u001b[1;32m    588\u001b[0m                 \u001b[0mself\u001b[0m\u001b[0;34m.\u001b[0m\u001b[0m_timeout_occurred\u001b[0m \u001b[0;34m=\u001b[0m \u001b[0;32mTrue\u001b[0m\u001b[0;34m\u001b[0m\u001b[0m\n",
      "\u001b[0;31mKeyboardInterrupt\u001b[0m: "
     ]
    }
   ],
   "source": [
    "# amazonのジャンル別ランキングのURLを入れる\n",
    "url = \"https://www.amazon.co.jp/gp/bestsellers/books/492062/ref=zg_bs_nav_b_3_1099154\"\n",
    "\n",
    "# coding: UTF-8\n",
    "import urllib.request\n",
    "from bs4 import BeautifulSoup\n",
    "\n",
    "book_list = []\n",
    "\n",
    "# URLにアクセスする htmlが帰ってくる \n",
    "html = urllib.request.urlopen(url)\n",
    "\n",
    "# htmlをBeautifulSoupで扱う\n",
    "soup = BeautifulSoup(html, \"html.parser\")\n",
    "\n",
    "for img in soup.find_all('img',class_=\"a-thumbnail-left\"):\n",
    "      book_list.append(img.get('alt'))    \n",
    "\n",
    "book_list_uniq = list(set(book_list))\n",
    "print(book_list_uniq)\n",
    "\n",
    "#URLのリストを取得\n",
    "\n",
    "#seleniumをインポート\n",
    "from selenium import webdriver\n",
    "driver = webdriver.Chrome(\"/Users/keigo/pyworks/chromedriver\")\n",
    "\n",
    "url_list = []\n",
    "\n",
    "for book_title in book_list_uniq:\n",
    "    driver.get(\"http://kosmos.lib.keio.ac.jp/primo_library/libweb/action/search.do?fn=search&ct=search&initialSearch=true&mode=Basic&tab=default_tab&indx=1&dum=true&srt=rank&vid=KEIO&frbg=&tb=t&vl%28freeText0%29=&vl%28489411217UI1%29=all_items&vl%281UIStartWith0%29=contains&vl%28213708702UI0%29=any&vl%28213708702UI0%29=title&vl%28213708702UI0%29=any&scp.scps=scope%3A%28KEIO%29%2Cprimo_central_multiple_fe\")\n",
    "    driver.find_element_by_id('search_field').send_keys(book_title)\n",
    "    driver.find_element_by_id('goButton').click()\n",
    "    #部分一致にしたい！！！！！\n",
    "    try:\n",
    "        #最上位の検索結果の\"全ての所蔵\"クリック\n",
    "        driver.find_element_by_class_name('EXLResultTab').click()\n",
    "        url_list.append(driver.current_url)\n",
    "    except:\n",
    "        pass\n",
    "driver.quit()\n",
    "\n",
    "print(url_list)"
   ]
  },
  {
   "cell_type": "code",
   "execution_count": 138,
   "metadata": {},
   "outputs": [],
   "source": [
    "#リストを確認してこのタブで実行\n",
    "#urlを開く\n",
    "\n",
    "import webbrowser\n",
    "for url in url_list:\n",
    "    webbrowser.open(url)"
   ]
  },
  {
   "cell_type": "code",
   "execution_count": 150,
   "metadata": {},
   "outputs": [
    {
     "name": "stdout",
     "output_type": "stream",
     "text": [
      "['今日アフィリエイトはじめますvol.2: たったこれだけ！初心者が30日で5万円稼ぐブログアフィリエイトすべての経験はお金に換えられるのだ', '人工知能は人間を超えるか ディープラーニングの先にあるもの (角川EPUB選書)', 'アフィリエイトで夢を叶えた元OLブロガーが教える 本気で稼げる アフィリエイトブログ 収益・集客が1.5倍UPするプロの技79', '人生の勝算 (NewsPicks Book)', 'アマゾノミクス データ・サイエンティストはこう考える', 'RPAの威力 ~ロボットと共に生きる働き方改革~', 'これからの世界をつくる仲間たちへ', '1ヶ月たった2記事だけ！月収130万円を稼ぐずるゆるブログ作成術: 毎日記事を書かなくても副業でしっかり稼ぐ！1PV325円を叩き出すブログアフィリエイト戦略', 'サブスクリプション・マーケティング――モノが売れない時代の顧客との関わり方', '月130万稼ぐ「初期投資ゼロのブログアフィリエイト」の手法をチラ見せします。 (イケハヤ書房)', 'ブログの成功技術：ブログ記事の書き方究極のガイドブック ブログSEOの入門書：個人ブロガーが勝てる唯一の戦略', 'プラットフォーム革命――経済を支配するビジネスモデルはどう機能し、どう作られるのか', 'エンジェル投資家 リスクを大胆に取り巨額のリターンを得る人は何を見抜くのか', '99%のブロガーが知らない月50万円稼ぐブログの仕組みづくり2 〜冴えないブロガーと過去の実績アフィリエイターの物語〜', 'ブログの書き方講座: 個人ブログ月間100万PVの手法', 'ネットで「女性」に売る 数字を上げる文章とデザインの基本原則', 'ブログ起業: 10年9割廃業時代を生き抜くブログ×ビジネス戦略', '解禁 インターネットビジネス完全暴露バイブル', 'デジタル・ポピュリズム 操作される世論と民主主義 (集英社新書)', '世界最先端のマーケティング 顧客とつながる企業のチャネルシフト戦略']\n"
     ]
    }
   ],
   "source": []
  },
  {
   "cell_type": "code",
   "execution_count": null,
   "metadata": {},
   "outputs": [],
   "source": []
  },
  {
   "cell_type": "code",
   "execution_count": 2,
   "metadata": {},
   "outputs": [
    {
     "name": "stdout",
     "output_type": "stream",
     "text": [
      "アフィリエイトで夢を叶えた元OLブロガーが教える 本気で稼げる アフィリエイトブログ 収益・集客が1.5倍UPするプロの技79\n",
      "人工知能は人間を超えるか ディープラーニングの先にあるもの (角川EPUB選書)\n",
      "人生の勝算 (NewsPicks Book)\n",
      "沈黙のWebライティング —Webマーケッター ボーンの激闘—〈SEOのためのライティング教本〉\n",
      "これからの世界をつくる仲間たちへ\n",
      "ブロックチェーン・レボリューション ――ビットコインを支える技術はどのようにビジネスと経済、そして世界を変えるのか\n",
      "1ヶ月たった2記事だけ！月収130万円を稼ぐずるゆるブログ作成術: 毎日記事を書かなくても副業でしっかり稼ぐ！1PV325円を叩き出すブログアフィリエイト戦略\n",
      "RPAの威力 ~ロボットと共に生きる働き方改革~\n",
      "さよなら、インターネット――GDPRはネットとデータをどう変えるのか\n",
      "ブログの成功技術：ブログ記事の書き方究極のガイドブック ブログSEOの入門書：個人ブロガーが勝てる唯一の戦略\n",
      "ブログ起業: 10年9割廃業時代を生き抜くブログ×ビジネス戦略\n",
      "あなたを支配し、社会を破壊する、AI・ビッグデータの罠\n",
      "the four GAFA 四騎士が創り変えた世界\n",
      "いちばん儲かる!Amazon輸入ビジネスの極意\n",
      "HARD THINGS\n",
      "エンジェル投資家 リスクを大胆に取り巨額のリターンを得る人は何を見抜くのか\n",
      "ブログの書き方講座: 個人ブログ月間100万PVの手法\n",
      "プラットフォーム革命――経済を支配するビジネスモデルはどう機能し、どう作られるのか\n",
      "解禁 インターネットビジネス完全暴露バイブル\n",
      "世界最先端のマーケティング 顧客とつながる企業のチャネルシフト戦略\n"
     ]
    }
   ],
   "source": [
    "list = ['アフィリエイトで夢を叶えた元OLブロガーが教える 本気で稼げる アフィリエイトブログ 収益・集客が1.5倍UPするプロの技79', '人工知能は人間を超えるか ディープラーニングの先にあるもの (角川EPUB選書)', '人生の勝算 (NewsPicks Book)', '沈黙のWebライティング —Webマーケッター ボーンの激闘—〈SEOのためのライティング教本〉', 'これからの世界をつくる仲間たちへ', 'ブロックチェーン・レボリューション ――ビットコインを支える技術はどのようにビジネスと経済、そして世界を変えるのか', '1ヶ月たった2記事だけ！月収130万円を稼ぐずるゆるブログ作成術: 毎日記事を書かなくても副業でしっかり稼ぐ！1PV325円を叩き出すブログアフィリエイト戦略', 'RPAの威力 ~ロボットと共に生きる働き方改革~', 'さよなら、インターネット――GDPRはネットとデータをどう変えるのか', 'ブログの成功技術：ブログ記事の書き方究極のガイドブック ブログSEOの入門書：個人ブロガーが勝てる唯一の戦略', 'ブログ起業: 10年9割廃業時代を生き抜くブログ×ビジネス戦略', 'あなたを支配し、社会を破壊する、AI・ビッグデータの罠', 'the four GAFA 四騎士が創り変えた世界', 'いちばん儲かる!Amazon輸入ビジネスの極意', 'HARD THINGS', 'エンジェル投資家 リスクを大胆に取り巨額のリターンを得る人は何を見抜くのか', 'ブログの書き方講座: 個人ブログ月間100万PVの手法', 'プラットフォーム革命――経済を支配するビジネスモデルはどう機能し、どう作られるのか', '解禁 インターネットビジネス完全暴露バイブル', '世界最先端のマーケティング 顧客とつながる企業のチャネルシフト戦略']\n",
    "for title in list:\n",
    "    print(title)"
   ]
  },
  {
   "cell_type": "code",
   "execution_count": null,
   "metadata": {},
   "outputs": [],
   "source": []
  }
 ],
 "metadata": {
  "kernelspec": {
   "display_name": "Python 3",
   "language": "python",
   "name": "python3"
  },
  "language_info": {
   "codemirror_mode": {
    "name": "ipython",
    "version": 3
   },
   "file_extension": ".py",
   "mimetype": "text/x-python",
   "name": "python",
   "nbconvert_exporter": "python",
   "pygments_lexer": "ipython3",
   "version": "3.6.5"
  }
 },
 "nbformat": 4,
 "nbformat_minor": 2
}
